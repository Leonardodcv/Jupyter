{
 "cells": [
  {
   "cell_type": "code",
   "execution_count": 3,
   "id": "f16162c3",
   "metadata": {},
   "outputs": [],
   "source": [
    "import pandas as pd\n",
    "import numpy as np\n",
    "df = pd.read_csv(\"D:/Python/achieves/2008.csv\")"
   ]
  },
  {
   "cell_type": "code",
   "execution_count": 4,
   "id": "e8984cd5",
   "metadata": {},
   "outputs": [],
   "source": [
    "x = df[\"ArrDelay\"].dropna()"
   ]
  },
  {
   "cell_type": "code",
   "execution_count": 7,
   "id": "cf59e607",
   "metadata": {},
   "outputs": [],
   "source": [
    "Q1 = np.percentile(x,25)\n",
    "Q3 = np.percentile(x,75)\n",
    "rangointer = Q3 - Q1\n",
    "#Rango intercuartilico: es la diferencia entre \n",
    "#el primer cuartil y el tercer cuartil"
   ]
  },
  {
   "cell_type": "code",
   "execution_count": 9,
   "id": "562bcd1f",
   "metadata": {},
   "outputs": [],
   "source": [
    "#selecion de elementos que no estan en 96.4%\n",
    "#por lo que se concideran datos anomalos u \n",
    "#outlayers\n",
    "umbralsuperior = Q3 + 1.5*rangointer\n",
    "umbralinferior = Q1 - 1.5*rangointer"
   ]
  },
  {
   "cell_type": "code",
   "execution_count": 10,
   "id": "54a3c249",
   "metadata": {},
   "outputs": [
    {
     "data": {
      "text/plain": [
       "48.5"
      ]
     },
     "execution_count": 10,
     "metadata": {},
     "output_type": "execute_result"
    }
   ],
   "source": [
    "umbralsuperior"
   ]
  },
  {
   "cell_type": "code",
   "execution_count": 11,
   "id": "92985d2a",
   "metadata": {},
   "outputs": [
    {
     "data": {
      "text/plain": [
       "-43.5"
      ]
     },
     "execution_count": 11,
     "metadata": {},
     "output_type": "execute_result"
    }
   ],
   "source": [
    "umbralinferior"
   ]
  },
  {
   "cell_type": "code",
   "execution_count": 12,
   "id": "2a0657bc",
   "metadata": {},
   "outputs": [
    {
     "data": {
      "text/plain": [
       "0.09311042534563922"
      ]
     },
     "execution_count": 12,
     "metadata": {},
     "output_type": "execute_result"
    }
   ],
   "source": [
    "#elementos anomalos que son muy altos\n",
    "np.mean(x > umbralsuperior)"
   ]
  },
  {
   "cell_type": "code",
   "execution_count": 14,
   "id": "a9a5ec93",
   "metadata": {},
   "outputs": [
    {
     "data": {
      "text/plain": [
       "0.0007712887943658814"
      ]
     },
     "execution_count": 14,
     "metadata": {},
     "output_type": "execute_result"
    }
   ],
   "source": [
    "#elementos anomalos que son muy bajos\n",
    "np.mean(x < umbralinferior)"
   ]
  },
  {
   "cell_type": "code",
   "execution_count": 15,
   "id": "a61d64ca",
   "metadata": {},
   "outputs": [],
   "source": [
    "from sklearn.covariance import EllipticEnvelope"
   ]
  },
  {
   "cell_type": "code",
   "execution_count": 16,
   "id": "3b72d413",
   "metadata": {},
   "outputs": [],
   "source": [
    "#crea un modelo el cual selecciona el 1% de datos \n",
    "#mas alejados de los datos mas centrados\n",
    "outliers = EllipticEnvelope(contamination = .01)"
   ]
  },
  {
   "cell_type": "code",
   "execution_count": 17,
   "id": "24c19349",
   "metadata": {},
   "outputs": [],
   "source": [
    "var_list = [\"DepDelay\", \"TaxiIn\", \"TaxiOut\", \"CarrierDelay\", \"WeatherDelay\", \"NASDelay\", \"SecurityDelay\", \"LateAircraftDelay\"]"
   ]
  },
  {
   "cell_type": "code",
   "execution_count": 18,
   "id": "4a8b85af",
   "metadata": {},
   "outputs": [],
   "source": [
    "#Se guarda en la variable x los valores que tengan \n",
    "#el encabezado que se encuentre en la variable var_list\n",
    "x = np.array(df.loc[:,var_list].dropna())"
   ]
  },
  {
   "cell_type": "code",
   "execution_count": 21,
   "id": "8eca3938",
   "metadata": {},
   "outputs": [
    {
     "name": "stdout",
     "output_type": "stream",
     "text": [
      "CPU times: total: 3min 42s\n",
      "Wall time: 1min 7s\n"
     ]
    },
    {
     "data": {
      "text/plain": [
       "EllipticEnvelope(contamination=0.01)"
      ]
     },
     "execution_count": 21,
     "metadata": {},
     "output_type": "execute_result"
    }
   ],
   "source": [
    "%%time\n",
    "outliers.fit(x)"
   ]
  },
  {
   "cell_type": "code",
   "execution_count": 22,
   "id": "cfbeffdf",
   "metadata": {},
   "outputs": [],
   "source": [
    "pred = outliers.predict(x)"
   ]
  },
  {
   "cell_type": "code",
   "execution_count": 23,
   "id": "aad19f82",
   "metadata": {},
   "outputs": [
    {
     "data": {
      "text/plain": [
       "array([1, 1, 1, ..., 1, 1, 1])"
      ]
     },
     "execution_count": 23,
     "metadata": {},
     "output_type": "execute_result"
    }
   ],
   "source": [
    "pred"
   ]
  },
  {
   "cell_type": "code",
   "execution_count": 24,
   "id": "c5671dd7",
   "metadata": {},
   "outputs": [],
   "source": [
    "elips_outliers = np.where(pred == -1)[0]"
   ]
  },
  {
   "cell_type": "code",
   "execution_count": 26,
   "id": "b514d900",
   "metadata": {},
   "outputs": [
    {
     "data": {
      "text/plain": [
       "array([   444,   1412,   1503, ..., 928886, 929283, 929284], dtype=int64)"
      ]
     },
     "execution_count": 26,
     "metadata": {},
     "output_type": "execute_result"
    }
   ],
   "source": [
    "elips_outliers"
   ]
  },
  {
   "cell_type": "code",
   "execution_count": null,
   "id": "a3789463",
   "metadata": {},
   "outputs": [],
   "source": []
  }
 ],
 "metadata": {
  "kernelspec": {
   "display_name": "Python 3 (ipykernel)",
   "language": "python",
   "name": "python3"
  },
  "language_info": {
   "codemirror_mode": {
    "name": "ipython",
    "version": 3
   },
   "file_extension": ".py",
   "mimetype": "text/x-python",
   "name": "python",
   "nbconvert_exporter": "python",
   "pygments_lexer": "ipython3",
   "version": "3.9.12"
  }
 },
 "nbformat": 4,
 "nbformat_minor": 5
}
