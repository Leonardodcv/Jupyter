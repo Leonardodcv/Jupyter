{
 "cells": [
  {
   "cell_type": "code",
   "execution_count": 1,
   "id": "55a2c81e",
   "metadata": {},
   "outputs": [],
   "source": [
    "import pandas as pd\n",
    "import numpy as np\n",
    "df = pd.read_csv(\"D:/Python/achieves/2008.csv\")"
   ]
  },
  {
   "cell_type": "code",
   "execution_count": 3,
   "id": "b83c24a2",
   "metadata": {},
   "outputs": [],
   "source": [
    "np.random.seed(0)\n",
    "df = df[df[\"Origin\"].isin([\"HOU\",\"ATL\",\"IND\"])]\n",
    "df = df.sample(frac = 1)\n",
    "df = df[0:10000]"
   ]
  },
  {
   "cell_type": "code",
   "execution_count": 4,
   "id": "56a1a231",
   "metadata": {},
   "outputs": [],
   "source": [
    "df[\"BigDelay\"] = df[\"ArrDelay\"] > 30\n",
    "#Tabla de contingencia que guarda las columnas BigDelay y Origin, \n",
    "#con margin=True tambien guarda los margenes de la tabla\n",
    "observados = pd.crosstab(index=df[\"BigDelay\"], columns=df[\"Origin\"], margins = True)"
   ]
  },
  {
   "cell_type": "code",
   "execution_count": 5,
   "id": "f28222d7",
   "metadata": {},
   "outputs": [
    {
     "data": {
      "text/html": [
       "<div>\n",
       "<style scoped>\n",
       "    .dataframe tbody tr th:only-of-type {\n",
       "        vertical-align: middle;\n",
       "    }\n",
       "\n",
       "    .dataframe tbody tr th {\n",
       "        vertical-align: top;\n",
       "    }\n",
       "\n",
       "    .dataframe thead th {\n",
       "        text-align: right;\n",
       "    }\n",
       "</style>\n",
       "<table border=\"1\" class=\"dataframe\">\n",
       "  <thead>\n",
       "    <tr style=\"text-align: right;\">\n",
       "      <th>Origin</th>\n",
       "      <th>ATL</th>\n",
       "      <th>HOU</th>\n",
       "      <th>IND</th>\n",
       "      <th>All</th>\n",
       "    </tr>\n",
       "    <tr>\n",
       "      <th>BigDelay</th>\n",
       "      <th></th>\n",
       "      <th></th>\n",
       "      <th></th>\n",
       "      <th></th>\n",
       "    </tr>\n",
       "  </thead>\n",
       "  <tbody>\n",
       "    <tr>\n",
       "      <th>False</th>\n",
       "      <td>6790</td>\n",
       "      <td>1039</td>\n",
       "      <td>782</td>\n",
       "      <td>8611</td>\n",
       "    </tr>\n",
       "    <tr>\n",
       "      <th>True</th>\n",
       "      <td>1082</td>\n",
       "      <td>197</td>\n",
       "      <td>110</td>\n",
       "      <td>1389</td>\n",
       "    </tr>\n",
       "    <tr>\n",
       "      <th>All</th>\n",
       "      <td>7872</td>\n",
       "      <td>1236</td>\n",
       "      <td>892</td>\n",
       "      <td>10000</td>\n",
       "    </tr>\n",
       "  </tbody>\n",
       "</table>\n",
       "</div>"
      ],
      "text/plain": [
       "Origin     ATL   HOU  IND    All\n",
       "BigDelay                        \n",
       "False     6790  1039  782   8611\n",
       "True      1082   197  110   1389\n",
       "All       7872  1236  892  10000"
      ]
     },
     "execution_count": 5,
     "metadata": {},
     "output_type": "execute_result"
    }
   ],
   "source": [
    "observados"
   ]
  },
  {
   "cell_type": "code",
   "execution_count": 6,
   "id": "d64d6f92",
   "metadata": {},
   "outputs": [],
   "source": [
    "from scipy.stats import chi2_contingency"
   ]
  },
  {
   "cell_type": "code",
   "execution_count": 7,
   "id": "5a9fa584",
   "metadata": {},
   "outputs": [],
   "source": [
    "test = chi2_contingency(observados)"
   ]
  },
  {
   "cell_type": "code",
   "execution_count": 8,
   "id": "95068324",
   "metadata": {},
   "outputs": [
    {
     "data": {
      "text/plain": [
       "(6.285680442086726,\n",
       " 0.3919605992381303,\n",
       " 6,\n",
       " array([[ 6778.5792,  1064.3196,   768.1012,  8611.    ],\n",
       "        [ 1093.4208,   171.6804,   123.8988,  1389.    ],\n",
       "        [ 7872.    ,  1236.    ,   892.    , 10000.    ]]))"
      ]
     },
     "execution_count": 8,
     "metadata": {},
     "output_type": "execute_result"
    }
   ],
   "source": [
    "test\n",
    "#primer numero es igual a la suma de las diferencias al cuadrado\n",
    "#el segundo numero es el p valor el cual permite tomar decisiones dependiendo de algun criterio\n",
    "#la tabla es una tabla de valore esperados"
   ]
  },
  {
   "cell_type": "code",
   "execution_count": 9,
   "id": "b797a749",
   "metadata": {},
   "outputs": [],
   "source": [
    "esperados = pd.DataFrame(test[3])"
   ]
  },
  {
   "cell_type": "code",
   "execution_count": 10,
   "id": "7d924a1f",
   "metadata": {},
   "outputs": [
    {
     "data": {
      "text/html": [
       "<div>\n",
       "<style scoped>\n",
       "    .dataframe tbody tr th:only-of-type {\n",
       "        vertical-align: middle;\n",
       "    }\n",
       "\n",
       "    .dataframe tbody tr th {\n",
       "        vertical-align: top;\n",
       "    }\n",
       "\n",
       "    .dataframe thead th {\n",
       "        text-align: right;\n",
       "    }\n",
       "</style>\n",
       "<table border=\"1\" class=\"dataframe\">\n",
       "  <thead>\n",
       "    <tr style=\"text-align: right;\">\n",
       "      <th></th>\n",
       "      <th>0</th>\n",
       "      <th>1</th>\n",
       "      <th>2</th>\n",
       "      <th>3</th>\n",
       "    </tr>\n",
       "  </thead>\n",
       "  <tbody>\n",
       "    <tr>\n",
       "      <th>0</th>\n",
       "      <td>6778.5792</td>\n",
       "      <td>1064.3196</td>\n",
       "      <td>768.1012</td>\n",
       "      <td>8611.0</td>\n",
       "    </tr>\n",
       "    <tr>\n",
       "      <th>1</th>\n",
       "      <td>1093.4208</td>\n",
       "      <td>171.6804</td>\n",
       "      <td>123.8988</td>\n",
       "      <td>1389.0</td>\n",
       "    </tr>\n",
       "    <tr>\n",
       "      <th>2</th>\n",
       "      <td>7872.0000</td>\n",
       "      <td>1236.0000</td>\n",
       "      <td>892.0000</td>\n",
       "      <td>10000.0</td>\n",
       "    </tr>\n",
       "  </tbody>\n",
       "</table>\n",
       "</div>"
      ],
      "text/plain": [
       "           0          1         2        3\n",
       "0  6778.5792  1064.3196  768.1012   8611.0\n",
       "1  1093.4208   171.6804  123.8988   1389.0\n",
       "2  7872.0000  1236.0000  892.0000  10000.0"
      ]
     },
     "execution_count": 10,
     "metadata": {},
     "output_type": "execute_result"
    }
   ],
   "source": [
    "esperados"
   ]
  },
  {
   "cell_type": "code",
   "execution_count": 12,
   "id": "635c49a7",
   "metadata": {},
   "outputs": [],
   "source": [
    "esperados_rel = round(esperados.apply(lambda r: r/len(df)*100, axis=1),2)"
   ]
  },
  {
   "cell_type": "code",
   "execution_count": 13,
   "id": "bc2e072a",
   "metadata": {},
   "outputs": [],
   "source": [
    "observados_rel = round(observados.apply(lambda r: r/len(df)*100, axis=1),2)"
   ]
  },
  {
   "cell_type": "code",
   "execution_count": 14,
   "id": "43109808",
   "metadata": {},
   "outputs": [
    {
     "data": {
      "text/html": [
       "<div>\n",
       "<style scoped>\n",
       "    .dataframe tbody tr th:only-of-type {\n",
       "        vertical-align: middle;\n",
       "    }\n",
       "\n",
       "    .dataframe tbody tr th {\n",
       "        vertical-align: top;\n",
       "    }\n",
       "\n",
       "    .dataframe thead th {\n",
       "        text-align: right;\n",
       "    }\n",
       "</style>\n",
       "<table border=\"1\" class=\"dataframe\">\n",
       "  <thead>\n",
       "    <tr style=\"text-align: right;\">\n",
       "      <th>Origin</th>\n",
       "      <th>ATL</th>\n",
       "      <th>HOU</th>\n",
       "      <th>IND</th>\n",
       "      <th>All</th>\n",
       "    </tr>\n",
       "    <tr>\n",
       "      <th>BigDelay</th>\n",
       "      <th></th>\n",
       "      <th></th>\n",
       "      <th></th>\n",
       "      <th></th>\n",
       "    </tr>\n",
       "  </thead>\n",
       "  <tbody>\n",
       "    <tr>\n",
       "      <th>False</th>\n",
       "      <td>67.90</td>\n",
       "      <td>10.39</td>\n",
       "      <td>7.82</td>\n",
       "      <td>86.11</td>\n",
       "    </tr>\n",
       "    <tr>\n",
       "      <th>True</th>\n",
       "      <td>10.82</td>\n",
       "      <td>1.97</td>\n",
       "      <td>1.10</td>\n",
       "      <td>13.89</td>\n",
       "    </tr>\n",
       "    <tr>\n",
       "      <th>All</th>\n",
       "      <td>78.72</td>\n",
       "      <td>12.36</td>\n",
       "      <td>8.92</td>\n",
       "      <td>100.00</td>\n",
       "    </tr>\n",
       "  </tbody>\n",
       "</table>\n",
       "</div>"
      ],
      "text/plain": [
       "Origin      ATL    HOU   IND     All\n",
       "BigDelay                            \n",
       "False     67.90  10.39  7.82   86.11\n",
       "True      10.82   1.97  1.10   13.89\n",
       "All       78.72  12.36  8.92  100.00"
      ]
     },
     "execution_count": 14,
     "metadata": {},
     "output_type": "execute_result"
    }
   ],
   "source": [
    "observados_rel"
   ]
  },
  {
   "cell_type": "code",
   "execution_count": 15,
   "id": "d134d752",
   "metadata": {},
   "outputs": [
    {
     "data": {
      "text/html": [
       "<div>\n",
       "<style scoped>\n",
       "    .dataframe tbody tr th:only-of-type {\n",
       "        vertical-align: middle;\n",
       "    }\n",
       "\n",
       "    .dataframe tbody tr th {\n",
       "        vertical-align: top;\n",
       "    }\n",
       "\n",
       "    .dataframe thead th {\n",
       "        text-align: right;\n",
       "    }\n",
       "</style>\n",
       "<table border=\"1\" class=\"dataframe\">\n",
       "  <thead>\n",
       "    <tr style=\"text-align: right;\">\n",
       "      <th></th>\n",
       "      <th>0</th>\n",
       "      <th>1</th>\n",
       "      <th>2</th>\n",
       "      <th>3</th>\n",
       "    </tr>\n",
       "  </thead>\n",
       "  <tbody>\n",
       "    <tr>\n",
       "      <th>0</th>\n",
       "      <td>67.79</td>\n",
       "      <td>10.64</td>\n",
       "      <td>7.68</td>\n",
       "      <td>86.11</td>\n",
       "    </tr>\n",
       "    <tr>\n",
       "      <th>1</th>\n",
       "      <td>10.93</td>\n",
       "      <td>1.72</td>\n",
       "      <td>1.24</td>\n",
       "      <td>13.89</td>\n",
       "    </tr>\n",
       "    <tr>\n",
       "      <th>2</th>\n",
       "      <td>78.72</td>\n",
       "      <td>12.36</td>\n",
       "      <td>8.92</td>\n",
       "      <td>100.00</td>\n",
       "    </tr>\n",
       "  </tbody>\n",
       "</table>\n",
       "</div>"
      ],
      "text/plain": [
       "       0      1     2       3\n",
       "0  67.79  10.64  7.68   86.11\n",
       "1  10.93   1.72  1.24   13.89\n",
       "2  78.72  12.36  8.92  100.00"
      ]
     },
     "execution_count": 15,
     "metadata": {},
     "output_type": "execute_result"
    }
   ],
   "source": [
    "esperados_rel"
   ]
  },
  {
   "cell_type": "code",
   "execution_count": 16,
   "id": "5788084c",
   "metadata": {},
   "outputs": [
    {
     "data": {
      "text/plain": [
       "0.3919605992381303"
      ]
     },
     "execution_count": 16,
     "metadata": {},
     "output_type": "execute_result"
    }
   ],
   "source": [
    "test[1]"
   ]
  },
  {
   "cell_type": "code",
   "execution_count": null,
   "id": "6f9af9b6",
   "metadata": {},
   "outputs": [],
   "source": []
  }
 ],
 "metadata": {
  "kernelspec": {
   "display_name": "Python 3 (ipykernel)",
   "language": "python",
   "name": "python3"
  },
  "language_info": {
   "codemirror_mode": {
    "name": "ipython",
    "version": 3
   },
   "file_extension": ".py",
   "mimetype": "text/x-python",
   "name": "python",
   "nbconvert_exporter": "python",
   "pygments_lexer": "ipython3",
   "version": "3.9.12"
  }
 },
 "nbformat": 4,
 "nbformat_minor": 5
}
