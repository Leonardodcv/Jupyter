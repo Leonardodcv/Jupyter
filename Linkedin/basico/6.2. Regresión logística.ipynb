{
 "cells": [
  {
   "cell_type": "code",
   "execution_count": null,
   "id": "f63b2aef",
   "metadata": {},
   "outputs": [],
   "source": [
    "#"
   ]
  },
  {
   "cell_type": "code",
   "execution_count": 20,
   "id": "57e32048",
   "metadata": {},
   "outputs": [],
   "source": [
    "import pandas as pd\n",
    "import numpy as np\n",
    "import matplotlib.pyplot as plt\n",
    "from sklearn.linear_model import LogisticRegression\n",
    "from sklearn.metrics import confusion_matrix\n",
    "#confusion_matrix sirve para interpretar el modelo\n",
    "df = pd.read_csv(\"D:/Python/achieves/2008.csv\")"
   ]
  },
  {
   "cell_type": "code",
   "execution_count": 21,
   "id": "25d08ec0",
   "metadata": {},
   "outputs": [],
   "source": [
    "df = df.dropna(subset = [\"ArrDelay\"])\n",
    "#se toman los primeros 100000 datos de una seccion\n",
    "#aleatoria de los datos\n",
    "df = df.sample(frac = 1).head(100000)\n",
    "#True = 1 y False = 0\n",
    "#Interpretacion vuelos sin retraso notable\n",
    "Y = df[\"ArrDelay\"] < 30\n",
    "#se ajustara el modelo con una sola varible:\n",
    "X = df[[\"DepDelay\"]]"
   ]
  },
  {
   "cell_type": "code",
   "execution_count": 22,
   "id": "98c7464f",
   "metadata": {},
   "outputs": [],
   "source": [
    "#se ajusta el modelo mediante las siguientes\n",
    "#instrucciones\n",
    "#LogisticRegression crea el modelo\n",
    "logreg = LogisticRegression()\n",
    "#Se ajusta con los modelos usando X e Y\n",
    "logreg.fit(X, Y)\n",
    "#con la siguiente linea se obtienen las predicciones\n",
    "Y_pred = logreg.predict(X)\n"
   ]
  },
  {
   "cell_type": "code",
   "execution_count": 23,
   "id": "22805422",
   "metadata": {},
   "outputs": [
    {
     "data": {
      "text/plain": [
       "array([[0.025, 0.975],\n",
       "       [0.014, 0.986],\n",
       "       [0.397, 0.603],\n",
       "       ...,\n",
       "       [0.9  , 0.1  ],\n",
       "       [0.612, 0.388],\n",
       "       [0.995, 0.005]])"
      ]
     },
     "execution_count": 23,
     "metadata": {},
     "output_type": "execute_result"
    }
   ],
   "source": [
    "np.round(logreg.predict_proba(X),3)"
   ]
  },
  {
   "cell_type": "code",
   "execution_count": 24,
   "id": "18c0d8e6",
   "metadata": {},
   "outputs": [
    {
     "data": {
      "text/plain": [
       "0.9567"
      ]
     },
     "execution_count": 24,
     "metadata": {},
     "output_type": "execute_result"
    }
   ],
   "source": [
    "np.mean(Y_pred == Y)"
   ]
  },
  {
   "cell_type": "code",
   "execution_count": 25,
   "id": "18ebbd88",
   "metadata": {},
   "outputs": [
    {
     "data": {
      "text/plain": [
       "0.86835"
      ]
     },
     "execution_count": 25,
     "metadata": {},
     "output_type": "execute_result"
    }
   ],
   "source": [
    "np.mean(Y)"
   ]
  },
  {
   "cell_type": "code",
   "execution_count": 26,
   "id": "5596b77d",
   "metadata": {},
   "outputs": [
    {
     "name": "stdout",
     "output_type": "stream",
     "text": [
      "[[ 9880  3285]\n",
      " [ 1045 85790]]\n"
     ]
    }
   ],
   "source": [
    "#filas valores reales\n",
    "#columnas valores predichos\n",
    "confusion_matrix = confusion_matrix(Y, Y_pred)\n",
    "print(confusion_matrix)\n"
   ]
  },
  {
   "cell_type": "code",
   "execution_count": null,
   "id": "724e8f84",
   "metadata": {},
   "outputs": [],
   "source": []
  }
 ],
 "metadata": {
  "kernelspec": {
   "display_name": "Python 3 (ipykernel)",
   "language": "python",
   "name": "python3"
  },
  "language_info": {
   "codemirror_mode": {
    "name": "ipython",
    "version": 3
   },
   "file_extension": ".py",
   "mimetype": "text/x-python",
   "name": "python",
   "nbconvert_exporter": "python",
   "pygments_lexer": "ipython3",
   "version": "3.9.12"
  }
 },
 "nbformat": 4,
 "nbformat_minor": 5
}
