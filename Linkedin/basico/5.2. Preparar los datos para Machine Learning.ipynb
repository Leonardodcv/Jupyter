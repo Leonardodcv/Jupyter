{
 "cells": [
  {
   "cell_type": "code",
   "execution_count": 6,
   "id": "27352bf6",
   "metadata": {},
   "outputs": [],
   "source": [
    "import pandas as pd\n",
    "import numpy as np\n",
    "from sklearn import preprocessing\n",
    "\n",
    "df = pd.read_csv(\"D:/Python/achieves/2008.csv\", nrows = 100000)\n",
    "#eliminar todos los datos faltantes de las columnas a graficar(inplace)\n",
    "df = df[[\"ArrDelay\",\"DepDelay\",\"Distance\",\"AirTime\"]].dropna()"
   ]
  },
  {
   "cell_type": "code",
   "execution_count": 7,
   "id": "fad219a5",
   "metadata": {},
   "outputs": [
    {
     "data": {
      "text/plain": [
       "array([[-0.63713243, -0.08247884,  0.40657043,  0.4452521 ],\n",
       "       [-0.12045009,  0.3068154 ,  0.40657043,  0.38990966],\n",
       "       [ 0.26706167, -0.08247884, -0.26709367, -0.29264705],\n",
       "       ...,\n",
       "       [ 1.84940134,  2.18250582,  0.53445243,  0.31611975],\n",
       "       [ 0.17018373,  0.37759617,  0.53445243,  0.1869874 ],\n",
       "       [ 0.17018373, -0.25943077,  0.53445243,  0.22388235]])"
      ]
     },
     "execution_count": 7,
     "metadata": {},
     "output_type": "execute_result"
    }
   ],
   "source": [
    "Xscaled = preprocessing.scale(df)\n",
    "Xscaled"
   ]
  },
  {
   "cell_type": "code",
   "execution_count": 8,
   "id": "63f36087",
   "metadata": {},
   "outputs": [
    {
     "data": {
      "text/plain": [
       "array([2.47651119e-17, 1.07267490e-17, 1.19506063e-16, 1.01364179e-16])"
      ]
     },
     "execution_count": 8,
     "metadata": {},
     "output_type": "execute_result"
    }
   ],
   "source": [
    "#Promedio por columna\n",
    "Xscaled.mean(axis=0)"
   ]
  },
  {
   "cell_type": "code",
   "execution_count": 9,
   "id": "512d57a4",
   "metadata": {},
   "outputs": [
    {
     "data": {
      "text/plain": [
       "array([1., 1., 1., 1.])"
      ]
     },
     "execution_count": 9,
     "metadata": {},
     "output_type": "execute_result"
    }
   ],
   "source": [
    "#Calculo de la desviacion estandar\n",
    "#se convierten todas las variables en una nueva escala\n",
    "# la cual esta centrada en el 0 y tiene una desviacion\n",
    "#estandar de 1 y esto se hace por que es muy util\n",
    "#\n",
    "Xscaled.std(axis=0)"
   ]
  },
  {
   "cell_type": "code",
   "execution_count": 10,
   "id": "921c90c7",
   "metadata": {},
   "outputs": [
    {
     "data": {
      "text/plain": [
       "ArrDelay     14.0\n",
       "DepDelay      8.0\n",
       "Distance    515.0\n",
       "AirTime      76.0\n",
       "Name: 2, dtype: float64"
      ]
     },
     "execution_count": 10,
     "metadata": {},
     "output_type": "execute_result"
    }
   ],
   "source": [
    "df.iloc[2]"
   ]
  },
  {
   "cell_type": "code",
   "execution_count": 11,
   "id": "9da0b929",
   "metadata": {},
   "outputs": [
    {
     "data": {
      "text/plain": [
       "array([ 0.26706167, -0.08247884, -0.26709367, -0.29264705])"
      ]
     },
     "execution_count": 11,
     "metadata": {},
     "output_type": "execute_result"
    }
   ],
   "source": [
    "Xscaled[2]"
   ]
  },
  {
   "cell_type": "code",
   "execution_count": 13,
   "id": "12cc5283",
   "metadata": {},
   "outputs": [
    {
     "data": {
      "text/plain": [
       "array([[0.77199282, 0.92857143, 3.15557514, 2.91316527],\n",
       "       [1.05924596, 1.125     , 3.15557514, 2.82913165],\n",
       "       [1.27468582, 0.92857143, 1.85544293, 1.79271709],\n",
       "       ...,\n",
       "       [2.15439856, 2.07142857, 3.4023799 , 2.71708683],\n",
       "       [1.22082585, 1.16071429, 3.4023799 , 2.5210084 ],\n",
       "       [1.22082585, 0.83928571, 3.4023799 , 2.57703081]])"
      ]
     },
     "execution_count": 13,
     "metadata": {},
     "output_type": "execute_result"
    }
   ],
   "source": [
    "#este tipo de preprocesamiento altera la escala de las\n",
    "#variables pero esto es muy importante en caso de tener\n",
    "# muchos outliers\n",
    "min_max_scaler = preprocessing.MinMaxScaler([0,10])\n",
    "X_train_minmax = min_max_scaler.fit_transform(df)\n",
    "X_train_minmax"
   ]
  },
  {
   "cell_type": "code",
   "execution_count": 14,
   "id": "fc2efbbf",
   "metadata": {},
   "outputs": [
    {
     "data": {
      "text/html": [
       "<div>\n",
       "<style scoped>\n",
       "    .dataframe tbody tr th:only-of-type {\n",
       "        vertical-align: middle;\n",
       "    }\n",
       "\n",
       "    .dataframe tbody tr th {\n",
       "        vertical-align: top;\n",
       "    }\n",
       "\n",
       "    .dataframe thead th {\n",
       "        text-align: right;\n",
       "    }\n",
       "</style>\n",
       "<table border=\"1\" class=\"dataframe\">\n",
       "  <thead>\n",
       "    <tr style=\"text-align: right;\">\n",
       "      <th></th>\n",
       "      <th>IAD</th>\n",
       "      <th>IND</th>\n",
       "      <th>ISP</th>\n",
       "      <th>JAN</th>\n",
       "      <th>JAX</th>\n",
       "      <th>LAS</th>\n",
       "    </tr>\n",
       "  </thead>\n",
       "  <tbody>\n",
       "    <tr>\n",
       "      <th>0</th>\n",
       "      <td>1</td>\n",
       "      <td>0</td>\n",
       "      <td>0</td>\n",
       "      <td>0</td>\n",
       "      <td>0</td>\n",
       "      <td>0</td>\n",
       "    </tr>\n",
       "    <tr>\n",
       "      <th>1</th>\n",
       "      <td>1</td>\n",
       "      <td>0</td>\n",
       "      <td>0</td>\n",
       "      <td>0</td>\n",
       "      <td>0</td>\n",
       "      <td>0</td>\n",
       "    </tr>\n",
       "    <tr>\n",
       "      <th>2</th>\n",
       "      <td>0</td>\n",
       "      <td>1</td>\n",
       "      <td>0</td>\n",
       "      <td>0</td>\n",
       "      <td>0</td>\n",
       "      <td>0</td>\n",
       "    </tr>\n",
       "    <tr>\n",
       "      <th>3</th>\n",
       "      <td>0</td>\n",
       "      <td>1</td>\n",
       "      <td>0</td>\n",
       "      <td>0</td>\n",
       "      <td>0</td>\n",
       "      <td>0</td>\n",
       "    </tr>\n",
       "    <tr>\n",
       "      <th>4</th>\n",
       "      <td>0</td>\n",
       "      <td>1</td>\n",
       "      <td>0</td>\n",
       "      <td>0</td>\n",
       "      <td>0</td>\n",
       "      <td>0</td>\n",
       "    </tr>\n",
       "    <tr>\n",
       "      <th>...</th>\n",
       "      <td>...</td>\n",
       "      <td>...</td>\n",
       "      <td>...</td>\n",
       "      <td>...</td>\n",
       "      <td>...</td>\n",
       "      <td>...</td>\n",
       "    </tr>\n",
       "    <tr>\n",
       "      <th>95</th>\n",
       "      <td>0</td>\n",
       "      <td>0</td>\n",
       "      <td>0</td>\n",
       "      <td>0</td>\n",
       "      <td>0</td>\n",
       "      <td>1</td>\n",
       "    </tr>\n",
       "    <tr>\n",
       "      <th>96</th>\n",
       "      <td>0</td>\n",
       "      <td>0</td>\n",
       "      <td>0</td>\n",
       "      <td>0</td>\n",
       "      <td>0</td>\n",
       "      <td>1</td>\n",
       "    </tr>\n",
       "    <tr>\n",
       "      <th>97</th>\n",
       "      <td>0</td>\n",
       "      <td>0</td>\n",
       "      <td>0</td>\n",
       "      <td>0</td>\n",
       "      <td>0</td>\n",
       "      <td>1</td>\n",
       "    </tr>\n",
       "    <tr>\n",
       "      <th>98</th>\n",
       "      <td>0</td>\n",
       "      <td>0</td>\n",
       "      <td>0</td>\n",
       "      <td>0</td>\n",
       "      <td>0</td>\n",
       "      <td>1</td>\n",
       "    </tr>\n",
       "    <tr>\n",
       "      <th>99</th>\n",
       "      <td>0</td>\n",
       "      <td>0</td>\n",
       "      <td>0</td>\n",
       "      <td>0</td>\n",
       "      <td>0</td>\n",
       "      <td>1</td>\n",
       "    </tr>\n",
       "  </tbody>\n",
       "</table>\n",
       "<p>100 rows × 6 columns</p>\n",
       "</div>"
      ],
      "text/plain": [
       "    IAD  IND  ISP  JAN  JAX  LAS\n",
       "0     1    0    0    0    0    0\n",
       "1     1    0    0    0    0    0\n",
       "2     0    1    0    0    0    0\n",
       "3     0    1    0    0    0    0\n",
       "4     0    1    0    0    0    0\n",
       "..  ...  ...  ...  ...  ...  ...\n",
       "95    0    0    0    0    0    1\n",
       "96    0    0    0    0    0    1\n",
       "97    0    0    0    0    0    1\n",
       "98    0    0    0    0    0    1\n",
       "99    0    0    0    0    0    1\n",
       "\n",
       "[100 rows x 6 columns]"
      ]
     },
     "execution_count": 14,
     "metadata": {},
     "output_type": "execute_result"
    }
   ],
   "source": [
    "#transformar variables no numericas en variables dam\n",
    "df = pd.read_csv(\"D:/Python/achieves/2008.csv\", nrows = 100)\n",
    "#la funcion get_dummies crea una tabla en la cual se \n",
    "#muestra los diferentes origenes de los vuelos y \n",
    "# muestra 1 o 0 dependiendo de donde salio el vuelo\n",
    "pd.get_dummies(df[\"Origin\"])"
   ]
  },
  {
   "cell_type": "code",
   "execution_count": null,
   "id": "2b8f4291",
   "metadata": {},
   "outputs": [],
   "source": []
  }
 ],
 "metadata": {
  "kernelspec": {
   "display_name": "Python 3 (ipykernel)",
   "language": "python",
   "name": "python3"
  },
  "language_info": {
   "codemirror_mode": {
    "name": "ipython",
    "version": 3
   },
   "file_extension": ".py",
   "mimetype": "text/x-python",
   "name": "python",
   "nbconvert_exporter": "python",
   "pygments_lexer": "ipython3",
   "version": "3.9.12"
  }
 },
 "nbformat": 4,
 "nbformat_minor": 5
}
