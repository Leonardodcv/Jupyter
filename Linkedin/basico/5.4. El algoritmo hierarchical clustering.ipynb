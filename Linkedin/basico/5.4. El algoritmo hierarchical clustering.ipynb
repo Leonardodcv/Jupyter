{
 "cells": [
  {
   "cell_type": "code",
   "execution_count": 1,
   "id": "046504de",
   "metadata": {},
   "outputs": [],
   "source": [
    "#el algoritmo clustering tambien es llamado algoritmo\n",
    "#jerarquico \n",
    "#el algoritmo divide en grupos los datos llamados \n",
    "#clusters y los va uniendo dependiendo de cual sea la \n",
    "#distancia euclidiana menor y entre mas se avanza se \n",
    "#uniran mas individuos o grupos, la mejor forma de \n",
    "#interpretar el grafico es ir subiendo\n",
    "import pandas as pd\n",
    "import numpy as np\n",
    "import matplotlib.pyplot as plt\n",
    "from sklearn.cluster import AgglomerativeClustering\n",
    "\n",
    "df = pd.read_csv(\"D:/Python/achieves/2008.csv\", nrows = 1e4)\n",
    "#elimina los casos faltantes de las dos colemnas entre []\n",
    "newdf = df[[\"AirTime\",\"DepDelay\"]].dropna()"
   ]
  },
  {
   "cell_type": "code",
   "execution_count": null,
   "id": "9da6fed1",
   "metadata": {},
   "outputs": [],
   "source": [
    "newdf = df[[\"AirTime\",\"Distance\",\"TaxiOut\",\"ArrDelay\",\"DepDelay\"]].dropna()"
   ]
  },
  {
   "cell_type": "code",
   "execution_count": null,
   "id": "3ab632b6",
   "metadata": {},
   "outputs": [],
   "source": [
    "clstr = AgglomerativeClustering(n_clusters = 5)\n",
    "clstr.fit(newdf)"
   ]
  },
  {
   "cell_type": "code",
   "execution_count": null,
   "id": "99231820",
   "metadata": {},
   "outputs": [],
   "source": [
    "import matplotlib.pyplot as plt\n",
    "plt.scatter(newdf[\"AirTime\"],newdf[\"DepDelay\"], c = clstr.fit_predict(newdf))\n",
    "plt.show()"
   ]
  },
  {
   "cell_type": "code",
   "execution_count": null,
   "id": "a6bf4b64",
   "metadata": {},
   "outputs": [],
   "source": [
    "newdf = pd.read_csv(\"D:/Python/achieves/2008.csv\", nrows = 1e4)[[\"AirTime\",\"DepDelay\"]].dropna()\n",
    "clstr.fit_predict(newdf)[0:10]"
   ]
  }
 ],
 "metadata": {
  "kernelspec": {
   "display_name": "Python 3 (ipykernel)",
   "language": "python",
   "name": "python3"
  },
  "language_info": {
   "codemirror_mode": {
    "name": "ipython",
    "version": 3
   },
   "file_extension": ".py",
   "mimetype": "text/x-python",
   "name": "python",
   "nbconvert_exporter": "python",
   "pygments_lexer": "ipython3",
   "version": "3.9.12"
  }
 },
 "nbformat": 4,
 "nbformat_minor": 5
}
