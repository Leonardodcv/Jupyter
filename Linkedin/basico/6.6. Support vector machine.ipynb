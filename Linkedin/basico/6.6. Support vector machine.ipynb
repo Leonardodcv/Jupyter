{
 "cells": [
  {
   "cell_type": "code",
   "execution_count": 1,
   "id": "6fd97de2",
   "metadata": {},
   "outputs": [],
   "source": [
    "import pandas as pd\n",
    "import numpy as np\n",
    "from sklearn.svm import SVC\n",
    "from sklearn import tree\n",
    "\n",
    "df = pd.read_csv(\"D:/Python/achieves/2008.csv\")\n",
    "df = df.dropna(subset = [\"ArrDelay\"])\n",
    "df = df.sample(frac = 1)\n",
    "dftest = df.tail(1000)\n",
    "df = df.head(1000)"
   ]
  },
  {
   "cell_type": "code",
   "execution_count": 4,
   "id": "a8d7c995",
   "metadata": {},
   "outputs": [],
   "source": [
    "X = df[[\"Distance\", \"AirTime\", \"DepTime\", \"TaxiIn\", \"TaxiOut\",\"DepDelay\"]]\n",
    "X_test = dftest[[\"Distance\", \"AirTime\", \"DepTime\", \"TaxiIn\", \"TaxiOut\",\"DepDelay\"]]\n",
    "Y = df[\"ArrDelay\"] > 10\n",
    "Y_test = dftest[\"ArrDelay\"] > 10\n",
    "\n",
    "clf = SVC(kernel = \"linear\")\n",
    "clf.fit(X,Y)\n",
    "Y_pred = clf.predict(X_test)"
   ]
  },
  {
   "cell_type": "code",
   "execution_count": 5,
   "id": "e3423733",
   "metadata": {},
   "outputs": [
    {
     "data": {
      "text/plain": [
       "0.936"
      ]
     },
     "execution_count": 5,
     "metadata": {},
     "output_type": "execute_result"
    }
   ],
   "source": [
    "np.mean(Y_pred ==Y_test)"
   ]
  },
  {
   "cell_type": "code",
   "execution_count": null,
   "id": "c4f66aed",
   "metadata": {},
   "outputs": [],
   "source": []
  }
 ],
 "metadata": {
  "kernelspec": {
   "display_name": "Python 3 (ipykernel)",
   "language": "python",
   "name": "python3"
  },
  "language_info": {
   "codemirror_mode": {
    "name": "ipython",
    "version": 3
   },
   "file_extension": ".py",
   "mimetype": "text/x-python",
   "name": "python",
   "nbconvert_exporter": "python",
   "pygments_lexer": "ipython3",
   "version": "3.9.12"
  }
 },
 "nbformat": 4,
 "nbformat_minor": 5
}
