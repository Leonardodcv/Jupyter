{
 "cells": [
  {
   "cell_type": "code",
   "execution_count": 1,
   "id": "baf2d000",
   "metadata": {},
   "outputs": [],
   "source": [
    "import pandas as pd\n",
    "import numpy as np\n",
    "import matplotlib.pyplot as plt\n",
    "import seaborn as sns\n",
    "df = pd.read_csv(\"D:/Python/achieves/2008.csv\")"
   ]
  },
  {
   "cell_type": "code",
   "execution_count": 2,
   "id": "17b358a1",
   "metadata": {},
   "outputs": [],
   "source": [
    "#elimina los registros con valores faltantes tomando\n",
    "#como referencia las columan entre commilas dobles\n",
    "df.dropna(inplace = True, subset = [\"ArrDelay\", \"DepDelay\",\"Distance\"])\n"
   ]
  },
  {
   "cell_type": "code",
   "execution_count": 4,
   "id": "71c0c141",
   "metadata": {
    "scrolled": true
   },
   "outputs": [
    {
     "name": "stderr",
     "output_type": "stream",
     "text": [
      "C:\\Anaconda\\lib\\site-packages\\seaborn\\distributions.py:2619: FutureWarning: `distplot` is a deprecated function and will be removed in a future version. Please adapt your code to use either `displot` (a figure-level function with similar flexibility) or `histplot` (an axes-level function for histograms).\n",
      "  warnings.warn(msg, FutureWarning)\n"
     ]
    },
    {
     "data": {
      "text/plain": [
       "<AxesSubplot:xlabel='Distance'>"
      ]
     },
     "execution_count": 4,
     "metadata": {},
     "output_type": "execute_result"
    },
    {
     "data": {
      "image/png": "[encoded data removed]",
      "text/plain": [
       "<Figure size 432x288 with 1 Axes>"
      ]
     },
     "metadata": {
      "needs_background": "light"
     },
     "output_type": "display_data"
    }
   ],
   "source": [
    "#Kde sirve para activar la aproximacion de la densidad\n",
    "#y beans sirve para crear un numero especifico de divisiones en el grafico\n",
    "sns.distplot(df[\"Distance\"], kde = False, bins=100)"
   ]
  },
  {
   "cell_type": "code",
   "execution_count": 6,
   "id": "eed9beea",
   "metadata": {
    "scrolled": false
   },
   "outputs": [
    {
     "ename": "TypeError",
     "evalue": "The x variable is categorical, but one of ['numeric', 'datetime'] is required",
     "output_type": "error",
     "traceback": [
      "\u001b[1;31m---------------------------------------------------------------------------\u001b[0m",
      "\u001b[1;31mTypeError\u001b[0m                                 Traceback (most recent call last)",
      "Input \u001b[1;32mIn [6]\u001b[0m, in \u001b[0;36m<cell line: 3>\u001b[1;34m()\u001b[0m\n\u001b[0;32m      1\u001b[0m \u001b[38;5;66;03m#para comparar dos distribuciones es bueno usar el \u001b[39;00m\n\u001b[0;32m      2\u001b[0m \u001b[38;5;66;03m#siguiente paquete\u001b[39;00m\n\u001b[1;32m----> 3\u001b[0m \u001b[43msns\u001b[49m\u001b[38;5;241;43m.\u001b[39;49m\u001b[43mkdeplot\u001b[49m\u001b[43m(\u001b[49m\u001b[43m[\u001b[49m\u001b[38;5;124;43m\"\u001b[39;49m\u001b[38;5;124;43mArrDelay\u001b[39;49m\u001b[38;5;124;43m\"\u001b[39;49m\u001b[43m]\u001b[49m\u001b[43m)\u001b[49m\n\u001b[0;32m      4\u001b[0m sns\u001b[38;5;241m.\u001b[39mkdeplot([\u001b[38;5;124m\"\u001b[39m\u001b[38;5;124mDepDelay\u001b[39m\u001b[38;5;124m\"\u001b[39m])\n\u001b[0;32m      5\u001b[0m plt\u001b[38;5;241m.\u001b[39mxlim([\u001b[38;5;241m-\u001b[39m\u001b[38;5;241m300\u001b[39m,\u001b[38;5;241m300\u001b[39m])\n",
      "File \u001b[1;32mC:\\Anaconda\\lib\\site-packages\\seaborn\\_decorators.py:46\u001b[0m, in \u001b[0;36m_deprecate_positional_args.<locals>.inner_f\u001b[1;34m(*args, **kwargs)\u001b[0m\n\u001b[0;32m     36\u001b[0m     warnings\u001b[38;5;241m.\u001b[39mwarn(\n\u001b[0;32m     37\u001b[0m         \u001b[38;5;124m\"\u001b[39m\u001b[38;5;124mPass the following variable\u001b[39m\u001b[38;5;132;01m{}\u001b[39;00m\u001b[38;5;124m as \u001b[39m\u001b[38;5;132;01m{}\u001b[39;00m\u001b[38;5;124mkeyword arg\u001b[39m\u001b[38;5;132;01m{}\u001b[39;00m\u001b[38;5;124m: \u001b[39m\u001b[38;5;132;01m{}\u001b[39;00m\u001b[38;5;124m. \u001b[39m\u001b[38;5;124m\"\u001b[39m\n\u001b[0;32m     38\u001b[0m         \u001b[38;5;124m\"\u001b[39m\u001b[38;5;124mFrom version 0.12, the only valid positional argument \u001b[39m\u001b[38;5;124m\"\u001b[39m\n\u001b[1;32m   (...)\u001b[0m\n\u001b[0;32m     43\u001b[0m         \u001b[38;5;167;01mFutureWarning\u001b[39;00m\n\u001b[0;32m     44\u001b[0m     )\n\u001b[0;32m     45\u001b[0m kwargs\u001b[38;5;241m.\u001b[39mupdate({k: arg \u001b[38;5;28;01mfor\u001b[39;00m k, arg \u001b[38;5;129;01min\u001b[39;00m \u001b[38;5;28mzip\u001b[39m(sig\u001b[38;5;241m.\u001b[39mparameters, args)})\n\u001b[1;32m---> 46\u001b[0m \u001b[38;5;28;01mreturn\u001b[39;00m f(\u001b[38;5;241m*\u001b[39m\u001b[38;5;241m*\u001b[39mkwargs)\n",
      "File \u001b[1;32mC:\\Anaconda\\lib\\site-packages\\seaborn\\distributions.py:1762\u001b[0m, in \u001b[0;36mkdeplot\u001b[1;34m(x, y, shade, vertical, kernel, bw, gridsize, cut, clip, legend, cumulative, shade_lowest, cbar, cbar_ax, cbar_kws, ax, weights, hue, palette, hue_order, hue_norm, multiple, common_norm, common_grid, levels, thresh, bw_method, bw_adjust, log_scale, color, fill, data, data2, warn_singular, **kwargs)\u001b[0m\n\u001b[0;32m   1752\u001b[0m \u001b[38;5;66;03m# Pack the kwargs for statistics.KDE\u001b[39;00m\n\u001b[0;32m   1753\u001b[0m estimate_kws \u001b[38;5;241m=\u001b[39m \u001b[38;5;28mdict\u001b[39m(\n\u001b[0;32m   1754\u001b[0m     bw_method\u001b[38;5;241m=\u001b[39mbw_method,\n\u001b[0;32m   1755\u001b[0m     bw_adjust\u001b[38;5;241m=\u001b[39mbw_adjust,\n\u001b[1;32m   (...)\u001b[0m\n\u001b[0;32m   1759\u001b[0m     cumulative\u001b[38;5;241m=\u001b[39mcumulative,\n\u001b[0;32m   1760\u001b[0m )\n\u001b[1;32m-> 1762\u001b[0m \u001b[43mp\u001b[49m\u001b[38;5;241;43m.\u001b[39;49m\u001b[43m_attach\u001b[49m\u001b[43m(\u001b[49m\u001b[43max\u001b[49m\u001b[43m,\u001b[49m\u001b[43m \u001b[49m\u001b[43mallowed_types\u001b[49m\u001b[38;5;241;43m=\u001b[39;49m\u001b[43m[\u001b[49m\u001b[38;5;124;43m\"\u001b[39;49m\u001b[38;5;124;43mnumeric\u001b[39;49m\u001b[38;5;124;43m\"\u001b[39;49m\u001b[43m,\u001b[49m\u001b[43m \u001b[49m\u001b[38;5;124;43m\"\u001b[39;49m\u001b[38;5;124;43mdatetime\u001b[39;49m\u001b[38;5;124;43m\"\u001b[39;49m\u001b[43m]\u001b[49m\u001b[43m,\u001b[49m\u001b[43m \u001b[49m\u001b[43mlog_scale\u001b[49m\u001b[38;5;241;43m=\u001b[39;49m\u001b[43mlog_scale\u001b[49m\u001b[43m)\u001b[49m\n\u001b[0;32m   1764\u001b[0m \u001b[38;5;28;01mif\u001b[39;00m p\u001b[38;5;241m.\u001b[39munivariate:\n\u001b[0;32m   1766\u001b[0m     plot_kws \u001b[38;5;241m=\u001b[39m kwargs\u001b[38;5;241m.\u001b[39mcopy()\n",
      "File \u001b[1;32mC:\\Anaconda\\lib\\site-packages\\seaborn\\_core.py:1125\u001b[0m, in \u001b[0;36mVectorPlotter._attach\u001b[1;34m(self, obj, allowed_types, log_scale)\u001b[0m\n\u001b[0;32m   1120\u001b[0m \u001b[38;5;28;01mif\u001b[39;00m var_type \u001b[38;5;129;01mnot\u001b[39;00m \u001b[38;5;129;01min\u001b[39;00m allowed_types:\n\u001b[0;32m   1121\u001b[0m     err \u001b[38;5;241m=\u001b[39m (\n\u001b[0;32m   1122\u001b[0m         \u001b[38;5;124mf\u001b[39m\u001b[38;5;124m\"\u001b[39m\u001b[38;5;124mThe \u001b[39m\u001b[38;5;132;01m{\u001b[39;00mvar\u001b[38;5;132;01m}\u001b[39;00m\u001b[38;5;124m variable is \u001b[39m\u001b[38;5;132;01m{\u001b[39;00mvar_type\u001b[38;5;132;01m}\u001b[39;00m\u001b[38;5;124m, but one of \u001b[39m\u001b[38;5;124m\"\u001b[39m\n\u001b[0;32m   1123\u001b[0m         \u001b[38;5;124mf\u001b[39m\u001b[38;5;124m\"\u001b[39m\u001b[38;5;132;01m{\u001b[39;00mallowed_types\u001b[38;5;132;01m}\u001b[39;00m\u001b[38;5;124m is required\u001b[39m\u001b[38;5;124m\"\u001b[39m\n\u001b[0;32m   1124\u001b[0m     )\n\u001b[1;32m-> 1125\u001b[0m     \u001b[38;5;28;01mraise\u001b[39;00m \u001b[38;5;167;01mTypeError\u001b[39;00m(err)\n\u001b[0;32m   1127\u001b[0m \u001b[38;5;66;03m# Register with the matplotlib unit conversion machinery\u001b[39;00m\n\u001b[0;32m   1128\u001b[0m \u001b[38;5;66;03m# Perhaps cleaner to manage our own transform objects?\u001b[39;00m\n\u001b[0;32m   1129\u001b[0m \u001b[38;5;66;03m# XXX Currently this does not allow \"unshared\" categorical axes\u001b[39;00m\n\u001b[0;32m   1130\u001b[0m \u001b[38;5;66;03m# We could add metadata to a FacetGrid and set units based on that.\u001b[39;00m\n\u001b[0;32m   1131\u001b[0m \u001b[38;5;66;03m# See also comment in comp_data, which only uses a single axes to do\u001b[39;00m\n\u001b[0;32m   1132\u001b[0m \u001b[38;5;66;03m# its mapping, meaning that it won't handle unshared axes well either.\u001b[39;00m\n\u001b[0;32m   1133\u001b[0m \u001b[38;5;28;01mfor\u001b[39;00m ax \u001b[38;5;129;01min\u001b[39;00m ax_list:\n",
      "\u001b[1;31mTypeError\u001b[0m: The x variable is categorical, but one of ['numeric', 'datetime'] is required"
     ]
    },
    {
     "data": {
      "image/png": "[encoded data removed]",
      "text/plain": [
       "<Figure size 432x288 with 1 Axes>"
      ]
     },
     "metadata": {
      "needs_background": "light"
     },
     "output_type": "display_data"
    }
   ],
   "source": [
    "#para comparar dos distribuciones es bueno usar el \n",
    "#siguiente paquete\n",
    "sns.kdeplot([\"ArrDelay\"])\n",
    "sns.kdeplot([\"DepDelay\"])\n",
    "plt.xlim([-300,300])"
   ]
  },
  {
   "cell_type": "code",
   "execution_count": 7,
   "id": "83e6e74a",
   "metadata": {},
   "outputs": [],
   "source": [
    "#sample(frac=1) sirve para quitar elementos que salgan demasiado\n",
    "#de la media de los datos\n",
    "df2 = df[df[\"Origin\"].isin([\"ATL\",\"HOU\",\"IND\"])].sample(frac = 1).head(500)"
   ]
  },
  {
   "cell_type": "code",
   "execution_count": 10,
   "id": "2643d35c",
   "metadata": {},
   "outputs": [
    {
     "data": {
      "text/plain": [
       "(-20.0, 150.0)"
      ]
     },
     "execution_count": 10,
     "metadata": {},
     "output_type": "execute_result"
    },
    {
     "data": {
      "image/png": "[encoded data removed]",
      "text/plain": [
       "<Figure size 432x288 with 1 Axes>"
      ]
     },
     "metadata": {
      "needs_background": "light"
     },
     "output_type": "display_data"
    }
   ],
   "source": [
    "sns.boxplot(x=\"DepDelay\", y=\"Origin\", data = df2)\n",
    "plt.xlim([-20,150])\n",
    "#este tipo de grafico sirve para ve como estan distribuidos \n",
    "#los datos y los rombos representan los outliers"
   ]
  },
  {
   "cell_type": "code",
   "execution_count": null,
   "id": "f93cf0e1",
   "metadata": {},
   "outputs": [],
   "source": []
  }
 ],
 "metadata": {
  "kernelspec": {
   "display_name": "Python 3 (ipykernel)",
   "language": "python",
   "name": "python3"
  },
  "language_info": {
   "codemirror_mode": {
    "name": "ipython",
    "version": 3
   },
   "file_extension": ".py",
   "mimetype": "text/x-python",
   "name": "python",
   "nbconvert_exporter": "python",
   "pygments_lexer": "ipython3",
   "version": "3.9.12"
  }
 },
 "nbformat": 4,
 "nbformat_minor": 5
}
