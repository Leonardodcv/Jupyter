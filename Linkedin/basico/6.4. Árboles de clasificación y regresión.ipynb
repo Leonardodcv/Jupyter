{
 "cells": [
  {
   "cell_type": "code",
   "execution_count": null,
   "id": "c22bf96c",
   "metadata": {},
   "outputs": [],
   "source": [
    "\"\"\"\n",
    "Se usa para seleccionar una variable que servira para\n",
    "dividir los valores que se tienen en dos grupos o ramas\n",
    "Permite hacer una lectura muy sencilla del modelo de \n",
    "clasificacion. \n",
    "\"\"\""
   ]
  },
  {
   "cell_type": "code",
   "execution_count": 3,
   "id": "173f53e9",
   "metadata": {},
   "outputs": [],
   "source": [
    "import pandas as pd\n",
    "import numpy as np\n",
    "from sklearn.metrics import r2_score\n",
    "from sklearn import tree\n",
    "df = pd.read_csv(\"D:/Python/achieves/2008.csv\")\n",
    "df = df.dropna(subset = [\"ArrDelay\"])\n",
    "df = df.sample(frac = 1)\n",
    "dftest = df.tail(500000)\n",
    "df = df.head(500000)"
   ]
  },
  {
   "cell_type": "code",
   "execution_count": 4,
   "id": "c53a90df",
   "metadata": {},
   "outputs": [],
   "source": [
    "#se crea un arbol de clasificacion \n",
    "\n",
    "clf = tree.DecisionTreeClassifier()\n",
    "\n",
    "X = df[[\"Distance\", \"AirTime\",\"DepTime\", \"TaxiIn\", \"TaxiOut\", \"DepDelay\"]]\n",
    "X_test = dftest[[\"Distance\", \"AirTime\",\"DepTime\", \"TaxiIn\", \"TaxiOut\", \"DepDelay\"]]\n",
    "Y = df[\"ArrDelay\"] > 10\n",
    "Y_test = dftest[\"ArrDelay\"] > 10"
   ]
  },
  {
   "cell_type": "code",
   "execution_count": 6,
   "id": "f664d4e2",
   "metadata": {},
   "outputs": [],
   "source": [
    "#se entrena el arbol de clasificacion con X y Y\n",
    "clf = clf.fit(X, Y)\n",
    "Y_pred = clf.predict(X)\n",
    "Y_pred_test = clf.predict(X_test)\n",
    "#max_depth, min_samples / min_samples_Leaf, max_features"
   ]
  },
  {
   "cell_type": "code",
   "execution_count": 7,
   "id": "9eae4ce4",
   "metadata": {},
   "outputs": [
    {
     "data": {
      "text/plain": [
       "1.0"
      ]
     },
     "execution_count": 7,
     "metadata": {},
     "output_type": "execute_result"
    }
   ],
   "source": [
    "np.mean(Y == Y_pred)\n",
    "#porcentaje de datos que clasifica correctamente el\n",
    "#modelo pero aqui es de 100% debido a que el parametro\n",
    "# sobreajusta todos los modelos y crea un arbol que\n",
    "# predice correctamente el 100% de los casos"
   ]
  },
  {
   "cell_type": "code",
   "execution_count": 8,
   "id": "c9a218dd",
   "metadata": {},
   "outputs": [
    {
     "data": {
      "text/plain": [
       "0.893902"
      ]
     },
     "execution_count": 8,
     "metadata": {},
     "output_type": "execute_result"
    }
   ],
   "source": [
    "np.mean(Y_test == Y_pred_test)"
   ]
  },
  {
   "cell_type": "code",
   "execution_count": 10,
   "id": "c35e7303",
   "metadata": {},
   "outputs": [
    {
     "name": "stdout",
     "output_type": "stream",
     "text": [
      "R cuadrado:  0.9999988369641987\n",
      "R cuadrado test:  0.8933230588620675\n"
     ]
    }
   ],
   "source": [
    "#respuesta numerica\n",
    "\n",
    "clf = tree.DecisionTreeRegressor()\n",
    "\n",
    "Y = df[\"ArrDelay\"]\n",
    "Y_test = dftest[\"ArrDelay\"]\n",
    "\n",
    "clf = clf.fit(X, Y)\n",
    "Y_pred = clf.predict(X)\n",
    "Y_pred_test = clf.predict(X_test)\n",
    "\n",
    "print(\"R cuadrado: \", r2_score(Y, Y_pred))\n",
    "print(\"R cuadrado test: \", r2_score(Y_test, Y_pred_test))"
   ]
  },
  {
   "cell_type": "code",
   "execution_count": null,
   "id": "66ee2c7d",
   "metadata": {},
   "outputs": [],
   "source": []
  },
  {
   "cell_type": "code",
   "execution_count": null,
   "id": "91ae0042",
   "metadata": {},
   "outputs": [],
   "source": []
  }
 ],
 "metadata": {
  "kernelspec": {
   "display_name": "Python 3 (ipykernel)",
   "language": "python",
   "name": "python3"
  },
  "language_info": {
   "codemirror_mode": {
    "name": "ipython",
    "version": 3
   },
   "file_extension": ".py",
   "mimetype": "text/x-python",
   "name": "python",
   "nbconvert_exporter": "python",
   "pygments_lexer": "ipython3",
   "version": "3.9.12"
  }
 },
 "nbformat": 4,
 "nbformat_minor": 5
}
